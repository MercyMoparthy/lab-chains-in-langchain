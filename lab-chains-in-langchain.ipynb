{
  "cells": [
    {
      "cell_type": "markdown",
      "id": "9e1d1f76",
      "metadata": {
        "colab_type": "text",
        "id": "view-in-github"
      },
      "source": [
        "<a href=\"https://colab.research.google.com/github/MercyMoparthy/lab-chains-in-langchain/blob/main/lab-chains-in-langchain.ipynb\" target=\"_parent\"><img src=\"https://colab.research.google.com/assets/colab-badge.svg\" alt=\"Open In Colab\"/></a>"
      ]
    },
    {
      "cell_type": "markdown",
      "id": "52824b89-532a-4e54-87e9-1410813cd39e",
      "metadata": {
        "id": "52824b89-532a-4e54-87e9-1410813cd39e"
      },
      "source": [
        "# Lab | Chains in LangChain\n",
        "\n",
        "## Outline\n",
        "\n",
        "* LLMChain\n",
        "* Sequential Chains\n",
        "  * SimpleSequentialChain\n",
        "  * SequentialChain\n",
        "* Router Chain"
      ]
    },
    {
      "cell_type": "code",
      "execution_count": 2,
      "id": "541eb2f1",
      "metadata": {
        "id": "541eb2f1"
      },
      "outputs": [],
      "source": [
        "import warnings\n",
        "warnings.filterwarnings('ignore')"
      ]
    },
    {
      "cell_type": "code",
      "execution_count": 20,
      "id": "-oXr7OgWZKBe",
      "metadata": {
        "id": "-oXr7OgWZKBe"
      },
      "outputs": [],
      "source": [
        "import os\n",
        "from dotenv import load_dotenv\n",
        "from langchain_openai import ChatOpenAI\n",
        "\n",
        "# Load environment variables from .env file\n",
        "load_dotenv()\n",
        "OPENAI_API_KEY = os.getenv(\"OPENAI_API_KEY\")"
      ]
    },
    {
      "cell_type": "code",
      "execution_count": null,
      "id": "b84e441b",
      "metadata": {
        "id": "b84e441b",
        "tags": []
      },
      "outputs": [],
      "source": [
        "#!pip install pandas"
      ]
    },
    {
      "cell_type": "code",
      "execution_count": 21,
      "id": "974acf8e-8f88-42de-88f8-40a82cb58e8b",
      "metadata": {
        "colab": {
          "base_uri": "https://localhost:8080/"
        },
        "id": "974acf8e-8f88-42de-88f8-40a82cb58e8b",
        "outputId": "295bc9cd-935c-4810-aa03-ef0b29fc882c",
        "tags": []
      },
      "outputs": [],
      "source": [
        "import pandas as pd\n",
        "df = pd.read_csv('data/Data.csv')"
      ]
    },
    {
      "cell_type": "code",
      "execution_count": 22,
      "id": "b7a09c35",
      "metadata": {
        "colab": {
          "base_uri": "https://localhost:8080/",
          "height": 206
        },
        "id": "b7a09c35",
        "outputId": "02e46bc8-9b47-43f9-fa2f-5671123e0c5e",
        "tags": []
      },
      "outputs": [
        {
          "data": {
            "text/html": [
              "<div>\n",
              "<style scoped>\n",
              "    .dataframe tbody tr th:only-of-type {\n",
              "        vertical-align: middle;\n",
              "    }\n",
              "\n",
              "    .dataframe tbody tr th {\n",
              "        vertical-align: top;\n",
              "    }\n",
              "\n",
              "    .dataframe thead th {\n",
              "        text-align: right;\n",
              "    }\n",
              "</style>\n",
              "<table border=\"1\" class=\"dataframe\">\n",
              "  <thead>\n",
              "    <tr style=\"text-align: right;\">\n",
              "      <th></th>\n",
              "      <th>Product</th>\n",
              "      <th>Review</th>\n",
              "    </tr>\n",
              "  </thead>\n",
              "  <tbody>\n",
              "    <tr>\n",
              "      <th>0</th>\n",
              "      <td>Queen Size Sheet Set</td>\n",
              "      <td>I ordered a king size set. My only criticism w...</td>\n",
              "    </tr>\n",
              "    <tr>\n",
              "      <th>1</th>\n",
              "      <td>Waterproof Phone Pouch</td>\n",
              "      <td>I loved the waterproof sac, although the openi...</td>\n",
              "    </tr>\n",
              "    <tr>\n",
              "      <th>2</th>\n",
              "      <td>Luxury Air Mattress</td>\n",
              "      <td>This mattress had a small hole in the top of i...</td>\n",
              "    </tr>\n",
              "    <tr>\n",
              "      <th>3</th>\n",
              "      <td>Pillows Insert</td>\n",
              "      <td>This is the best throw pillow fillers on Amazo...</td>\n",
              "    </tr>\n",
              "    <tr>\n",
              "      <th>4</th>\n",
              "      <td>Milk Frother Handheld\\r\\n</td>\n",
              "      <td>I loved this product. But they only seem to l...</td>\n",
              "    </tr>\n",
              "  </tbody>\n",
              "</table>\n",
              "</div>"
            ],
            "text/plain": [
              "                     Product  \\\n",
              "0       Queen Size Sheet Set   \n",
              "1     Waterproof Phone Pouch   \n",
              "2        Luxury Air Mattress   \n",
              "3             Pillows Insert   \n",
              "4  Milk Frother Handheld\\r\\n   \n",
              "\n",
              "                                              Review  \n",
              "0  I ordered a king size set. My only criticism w...  \n",
              "1  I loved the waterproof sac, although the openi...  \n",
              "2  This mattress had a small hole in the top of i...  \n",
              "3  This is the best throw pillow fillers on Amazo...  \n",
              "4   I loved this product. But they only seem to l...  "
            ]
          },
          "execution_count": 22,
          "metadata": {},
          "output_type": "execute_result"
        }
      ],
      "source": [
        "df.head()"
      ]
    },
    {
      "cell_type": "markdown",
      "id": "b940ce7c",
      "metadata": {
        "id": "b940ce7c"
      },
      "source": [
        "## LLMChain"
      ]
    },
    {
      "cell_type": "code",
      "execution_count": 23,
      "id": "427e1119",
      "metadata": {
        "colab": {
          "base_uri": "https://localhost:8080/"
        },
        "id": "427e1119",
        "outputId": "58002234-a856-49aa-b91c-be66a2ceb6ac"
      },
      "outputs": [
        {
          "name": "stdout",
          "output_type": "stream",
          "text": [
            "Requirement already satisfied: langchain_community in c:\\users\\mercy\\appdata\\local\\programs\\python\\python313\\lib\\site-packages (0.3.25)\n",
            "Requirement already satisfied: langchain-core<1.0.0,>=0.3.65 in c:\\users\\mercy\\appdata\\local\\programs\\python\\python313\\lib\\site-packages (from langchain_community) (0.3.65)\n",
            "Requirement already satisfied: langchain<1.0.0,>=0.3.25 in c:\\users\\mercy\\appdata\\local\\programs\\python\\python313\\lib\\site-packages (from langchain_community) (0.3.25)\n",
            "Requirement already satisfied: SQLAlchemy<3,>=1.4 in c:\\users\\mercy\\appdata\\local\\programs\\python\\python313\\lib\\site-packages (from langchain_community) (2.0.41)\n",
            "Requirement already satisfied: requests<3,>=2 in c:\\users\\mercy\\appdata\\local\\programs\\python\\python313\\lib\\site-packages (from langchain_community) (2.32.3)\n",
            "Requirement already satisfied: PyYAML>=5.3 in c:\\users\\mercy\\appdata\\local\\programs\\python\\python313\\lib\\site-packages (from langchain_community) (6.0.2)\n",
            "Requirement already satisfied: aiohttp<4.0.0,>=3.8.3 in c:\\users\\mercy\\appdata\\local\\programs\\python\\python313\\lib\\site-packages (from langchain_community) (3.11.18)\n",
            "Requirement already satisfied: tenacity!=8.4.0,<10,>=8.1.0 in c:\\users\\mercy\\appdata\\local\\programs\\python\\python313\\lib\\site-packages (from langchain_community) (9.1.2)\n",
            "Requirement already satisfied: dataclasses-json<0.7,>=0.5.7 in c:\\users\\mercy\\appdata\\local\\programs\\python\\python313\\lib\\site-packages (from langchain_community) (0.6.7)\n",
            "Requirement already satisfied: pydantic-settings<3.0.0,>=2.4.0 in c:\\users\\mercy\\appdata\\local\\programs\\python\\python313\\lib\\site-packages (from langchain_community) (2.9.1)\n",
            "Requirement already satisfied: langsmith<0.4,>=0.1.125 in c:\\users\\mercy\\appdata\\local\\programs\\python\\python313\\lib\\site-packages (from langchain_community) (0.3.45)\n",
            "Requirement already satisfied: httpx-sse<1.0.0,>=0.4.0 in c:\\users\\mercy\\appdata\\local\\programs\\python\\python313\\lib\\site-packages (from langchain_community) (0.4.0)\n",
            "Requirement already satisfied: numpy>=2.1.0 in c:\\users\\mercy\\appdata\\local\\programs\\python\\python313\\lib\\site-packages (from langchain_community) (2.2.5)\n",
            "Requirement already satisfied: aiohappyeyeballs>=2.3.0 in c:\\users\\mercy\\appdata\\local\\programs\\python\\python313\\lib\\site-packages (from aiohttp<4.0.0,>=3.8.3->langchain_community) (2.6.1)\n",
            "Requirement already satisfied: aiosignal>=1.1.2 in c:\\users\\mercy\\appdata\\local\\programs\\python\\python313\\lib\\site-packages (from aiohttp<4.0.0,>=3.8.3->langchain_community) (1.3.2)\n",
            "Requirement already satisfied: attrs>=17.3.0 in c:\\users\\mercy\\appdata\\local\\programs\\python\\python313\\lib\\site-packages (from aiohttp<4.0.0,>=3.8.3->langchain_community) (25.3.0)\n",
            "Requirement already satisfied: frozenlist>=1.1.1 in c:\\users\\mercy\\appdata\\local\\programs\\python\\python313\\lib\\site-packages (from aiohttp<4.0.0,>=3.8.3->langchain_community) (1.6.0)\n",
            "Requirement already satisfied: multidict<7.0,>=4.5 in c:\\users\\mercy\\appdata\\local\\programs\\python\\python313\\lib\\site-packages (from aiohttp<4.0.0,>=3.8.3->langchain_community) (6.4.3)\n",
            "Requirement already satisfied: propcache>=0.2.0 in c:\\users\\mercy\\appdata\\local\\programs\\python\\python313\\lib\\site-packages (from aiohttp<4.0.0,>=3.8.3->langchain_community) (0.3.1)\n",
            "Requirement already satisfied: yarl<2.0,>=1.17.0 in c:\\users\\mercy\\appdata\\local\\programs\\python\\python313\\lib\\site-packages (from aiohttp<4.0.0,>=3.8.3->langchain_community) (1.20.0)\n",
            "Requirement already satisfied: marshmallow<4.0.0,>=3.18.0 in c:\\users\\mercy\\appdata\\local\\programs\\python\\python313\\lib\\site-packages (from dataclasses-json<0.7,>=0.5.7->langchain_community) (3.26.1)\n",
            "Requirement already satisfied: typing-inspect<1,>=0.4.0 in c:\\users\\mercy\\appdata\\local\\programs\\python\\python313\\lib\\site-packages (from dataclasses-json<0.7,>=0.5.7->langchain_community) (0.9.0)\n",
            "Requirement already satisfied: langchain-text-splitters<1.0.0,>=0.3.8 in c:\\users\\mercy\\appdata\\local\\programs\\python\\python313\\lib\\site-packages (from langchain<1.0.0,>=0.3.25->langchain_community) (0.3.8)\n",
            "Requirement already satisfied: pydantic<3.0.0,>=2.7.4 in c:\\users\\mercy\\appdata\\local\\programs\\python\\python313\\lib\\site-packages (from langchain<1.0.0,>=0.3.25->langchain_community) (2.11.4)\n",
            "Requirement already satisfied: jsonpatch<2.0,>=1.33 in c:\\users\\mercy\\appdata\\local\\programs\\python\\python313\\lib\\site-packages (from langchain-core<1.0.0,>=0.3.65->langchain_community) (1.33)\n",
            "Requirement already satisfied: packaging<25,>=23.2 in c:\\users\\mercy\\appdata\\local\\programs\\python\\python313\\lib\\site-packages (from langchain-core<1.0.0,>=0.3.65->langchain_community) (24.2)\n",
            "Requirement already satisfied: typing-extensions>=4.7 in c:\\users\\mercy\\appdata\\local\\programs\\python\\python313\\lib\\site-packages (from langchain-core<1.0.0,>=0.3.65->langchain_community) (4.13.2)\n",
            "Requirement already satisfied: jsonpointer>=1.9 in c:\\users\\mercy\\appdata\\local\\programs\\python\\python313\\lib\\site-packages (from jsonpatch<2.0,>=1.33->langchain-core<1.0.0,>=0.3.65->langchain_community) (3.0.0)\n",
            "Requirement already satisfied: httpx<1,>=0.23.0 in c:\\users\\mercy\\appdata\\local\\programs\\python\\python313\\lib\\site-packages (from langsmith<0.4,>=0.1.125->langchain_community) (0.27.0)\n",
            "Requirement already satisfied: orjson<4.0.0,>=3.9.14 in c:\\users\\mercy\\appdata\\local\\programs\\python\\python313\\lib\\site-packages (from langsmith<0.4,>=0.1.125->langchain_community) (3.10.18)\n",
            "Requirement already satisfied: requests-toolbelt<2.0.0,>=1.0.0 in c:\\users\\mercy\\appdata\\local\\programs\\python\\python313\\lib\\site-packages (from langsmith<0.4,>=0.1.125->langchain_community) (1.0.0)\n",
            "Requirement already satisfied: zstandard<0.24.0,>=0.23.0 in c:\\users\\mercy\\appdata\\local\\programs\\python\\python313\\lib\\site-packages (from langsmith<0.4,>=0.1.125->langchain_community) (0.23.0)\n",
            "Requirement already satisfied: anyio in c:\\users\\mercy\\appdata\\local\\programs\\python\\python313\\lib\\site-packages (from httpx<1,>=0.23.0->langsmith<0.4,>=0.1.125->langchain_community) (4.9.0)\n",
            "Requirement already satisfied: certifi in c:\\users\\mercy\\appdata\\local\\programs\\python\\python313\\lib\\site-packages (from httpx<1,>=0.23.0->langsmith<0.4,>=0.1.125->langchain_community) (2025.4.26)\n",
            "Requirement already satisfied: httpcore==1.* in c:\\users\\mercy\\appdata\\local\\programs\\python\\python313\\lib\\site-packages (from httpx<1,>=0.23.0->langsmith<0.4,>=0.1.125->langchain_community) (1.0.9)\n",
            "Requirement already satisfied: idna in c:\\users\\mercy\\appdata\\local\\programs\\python\\python313\\lib\\site-packages (from httpx<1,>=0.23.0->langsmith<0.4,>=0.1.125->langchain_community) (3.10)\n",
            "Requirement already satisfied: sniffio in c:\\users\\mercy\\appdata\\local\\programs\\python\\python313\\lib\\site-packages (from httpx<1,>=0.23.0->langsmith<0.4,>=0.1.125->langchain_community) (1.3.1)\n",
            "Requirement already satisfied: h11>=0.16 in c:\\users\\mercy\\appdata\\local\\programs\\python\\python313\\lib\\site-packages (from httpcore==1.*->httpx<1,>=0.23.0->langsmith<0.4,>=0.1.125->langchain_community) (0.16.0)\n",
            "Requirement already satisfied: annotated-types>=0.6.0 in c:\\users\\mercy\\appdata\\local\\programs\\python\\python313\\lib\\site-packages (from pydantic<3.0.0,>=2.7.4->langchain<1.0.0,>=0.3.25->langchain_community) (0.7.0)\n",
            "Requirement already satisfied: pydantic-core==2.33.2 in c:\\users\\mercy\\appdata\\local\\programs\\python\\python313\\lib\\site-packages (from pydantic<3.0.0,>=2.7.4->langchain<1.0.0,>=0.3.25->langchain_community) (2.33.2)\n",
            "Requirement already satisfied: typing-inspection>=0.4.0 in c:\\users\\mercy\\appdata\\local\\programs\\python\\python313\\lib\\site-packages (from pydantic<3.0.0,>=2.7.4->langchain<1.0.0,>=0.3.25->langchain_community) (0.4.1)\n",
            "Requirement already satisfied: python-dotenv>=0.21.0 in c:\\users\\mercy\\appdata\\local\\programs\\python\\python313\\lib\\site-packages (from pydantic-settings<3.0.0,>=2.4.0->langchain_community) (1.1.0)\n",
            "Requirement already satisfied: charset-normalizer<4,>=2 in c:\\users\\mercy\\appdata\\local\\programs\\python\\python313\\lib\\site-packages (from requests<3,>=2->langchain_community) (3.4.1)\n",
            "Requirement already satisfied: urllib3<3,>=1.21.1 in c:\\users\\mercy\\appdata\\local\\programs\\python\\python313\\lib\\site-packages (from requests<3,>=2->langchain_community) (2.4.0)\n",
            "Requirement already satisfied: greenlet>=1 in c:\\users\\mercy\\appdata\\local\\programs\\python\\python313\\lib\\site-packages (from SQLAlchemy<3,>=1.4->langchain_community) (3.2.3)\n",
            "Requirement already satisfied: mypy-extensions>=0.3.0 in c:\\users\\mercy\\appdata\\local\\programs\\python\\python313\\lib\\site-packages (from typing-inspect<1,>=0.4.0->dataclasses-json<0.7,>=0.5.7->langchain_community) (1.1.0)\n"
          ]
        }
      ],
      "source": [
        "!pip install langchain_community"
      ]
    },
    {
      "cell_type": "code",
      "execution_count": 24,
      "id": "e92dff22",
      "metadata": {
        "colab": {
          "base_uri": "https://localhost:8080/"
        },
        "id": "e92dff22",
        "outputId": "47814592-89c6-4d9a-df75-6cea765240cf",
        "tags": []
      },
      "outputs": [
        {
          "name": "stdout",
          "output_type": "stream",
          "text": [
            "Requirement already satisfied: langchain_openai in c:\\users\\mercy\\appdata\\local\\programs\\python\\python313\\lib\\site-packages (0.3.23)\n",
            "Requirement already satisfied: langchain-core<1.0.0,>=0.3.65 in c:\\users\\mercy\\appdata\\local\\programs\\python\\python313\\lib\\site-packages (from langchain_openai) (0.3.65)\n",
            "Requirement already satisfied: openai<2.0.0,>=1.68.2 in c:\\users\\mercy\\appdata\\local\\programs\\python\\python313\\lib\\site-packages (from langchain_openai) (1.86.0)\n",
            "Requirement already satisfied: tiktoken<1,>=0.7 in c:\\users\\mercy\\appdata\\local\\programs\\python\\python313\\lib\\site-packages (from langchain_openai) (0.9.0)\n",
            "Requirement already satisfied: langsmith<0.4,>=0.3.45 in c:\\users\\mercy\\appdata\\local\\programs\\python\\python313\\lib\\site-packages (from langchain-core<1.0.0,>=0.3.65->langchain_openai) (0.3.45)\n",
            "Requirement already satisfied: tenacity!=8.4.0,<10.0.0,>=8.1.0 in c:\\users\\mercy\\appdata\\local\\programs\\python\\python313\\lib\\site-packages (from langchain-core<1.0.0,>=0.3.65->langchain_openai) (9.1.2)\n",
            "Requirement already satisfied: jsonpatch<2.0,>=1.33 in c:\\users\\mercy\\appdata\\local\\programs\\python\\python313\\lib\\site-packages (from langchain-core<1.0.0,>=0.3.65->langchain_openai) (1.33)\n",
            "Requirement already satisfied: PyYAML>=5.3 in c:\\users\\mercy\\appdata\\local\\programs\\python\\python313\\lib\\site-packages (from langchain-core<1.0.0,>=0.3.65->langchain_openai) (6.0.2)\n",
            "Requirement already satisfied: packaging<25,>=23.2 in c:\\users\\mercy\\appdata\\local\\programs\\python\\python313\\lib\\site-packages (from langchain-core<1.0.0,>=0.3.65->langchain_openai) (24.2)\n",
            "Requirement already satisfied: typing-extensions>=4.7 in c:\\users\\mercy\\appdata\\local\\programs\\python\\python313\\lib\\site-packages (from langchain-core<1.0.0,>=0.3.65->langchain_openai) (4.13.2)\n",
            "Requirement already satisfied: pydantic>=2.7.4 in c:\\users\\mercy\\appdata\\local\\programs\\python\\python313\\lib\\site-packages (from langchain-core<1.0.0,>=0.3.65->langchain_openai) (2.11.4)\n",
            "Requirement already satisfied: jsonpointer>=1.9 in c:\\users\\mercy\\appdata\\local\\programs\\python\\python313\\lib\\site-packages (from jsonpatch<2.0,>=1.33->langchain-core<1.0.0,>=0.3.65->langchain_openai) (3.0.0)\n",
            "Requirement already satisfied: httpx<1,>=0.23.0 in c:\\users\\mercy\\appdata\\local\\programs\\python\\python313\\lib\\site-packages (from langsmith<0.4,>=0.3.45->langchain-core<1.0.0,>=0.3.65->langchain_openai) (0.27.0)\n",
            "Requirement already satisfied: orjson<4.0.0,>=3.9.14 in c:\\users\\mercy\\appdata\\local\\programs\\python\\python313\\lib\\site-packages (from langsmith<0.4,>=0.3.45->langchain-core<1.0.0,>=0.3.65->langchain_openai) (3.10.18)\n",
            "Requirement already satisfied: requests<3,>=2 in c:\\users\\mercy\\appdata\\local\\programs\\python\\python313\\lib\\site-packages (from langsmith<0.4,>=0.3.45->langchain-core<1.0.0,>=0.3.65->langchain_openai) (2.32.3)\n",
            "Requirement already satisfied: requests-toolbelt<2.0.0,>=1.0.0 in c:\\users\\mercy\\appdata\\local\\programs\\python\\python313\\lib\\site-packages (from langsmith<0.4,>=0.3.45->langchain-core<1.0.0,>=0.3.65->langchain_openai) (1.0.0)\n",
            "Requirement already satisfied: zstandard<0.24.0,>=0.23.0 in c:\\users\\mercy\\appdata\\local\\programs\\python\\python313\\lib\\site-packages (from langsmith<0.4,>=0.3.45->langchain-core<1.0.0,>=0.3.65->langchain_openai) (0.23.0)\n",
            "Requirement already satisfied: anyio in c:\\users\\mercy\\appdata\\local\\programs\\python\\python313\\lib\\site-packages (from httpx<1,>=0.23.0->langsmith<0.4,>=0.3.45->langchain-core<1.0.0,>=0.3.65->langchain_openai) (4.9.0)\n",
            "Requirement already satisfied: certifi in c:\\users\\mercy\\appdata\\local\\programs\\python\\python313\\lib\\site-packages (from httpx<1,>=0.23.0->langsmith<0.4,>=0.3.45->langchain-core<1.0.0,>=0.3.65->langchain_openai) (2025.4.26)\n",
            "Requirement already satisfied: httpcore==1.* in c:\\users\\mercy\\appdata\\local\\programs\\python\\python313\\lib\\site-packages (from httpx<1,>=0.23.0->langsmith<0.4,>=0.3.45->langchain-core<1.0.0,>=0.3.65->langchain_openai) (1.0.9)\n",
            "Requirement already satisfied: idna in c:\\users\\mercy\\appdata\\local\\programs\\python\\python313\\lib\\site-packages (from httpx<1,>=0.23.0->langsmith<0.4,>=0.3.45->langchain-core<1.0.0,>=0.3.65->langchain_openai) (3.10)\n",
            "Requirement already satisfied: sniffio in c:\\users\\mercy\\appdata\\local\\programs\\python\\python313\\lib\\site-packages (from httpx<1,>=0.23.0->langsmith<0.4,>=0.3.45->langchain-core<1.0.0,>=0.3.65->langchain_openai) (1.3.1)\n",
            "Requirement already satisfied: h11>=0.16 in c:\\users\\mercy\\appdata\\local\\programs\\python\\python313\\lib\\site-packages (from httpcore==1.*->httpx<1,>=0.23.0->langsmith<0.4,>=0.3.45->langchain-core<1.0.0,>=0.3.65->langchain_openai) (0.16.0)\n",
            "Requirement already satisfied: distro<2,>=1.7.0 in c:\\users\\mercy\\appdata\\local\\programs\\python\\python313\\lib\\site-packages (from openai<2.0.0,>=1.68.2->langchain_openai) (1.9.0)\n",
            "Requirement already satisfied: jiter<1,>=0.4.0 in c:\\users\\mercy\\appdata\\local\\programs\\python\\python313\\lib\\site-packages (from openai<2.0.0,>=1.68.2->langchain_openai) (0.10.0)\n",
            "Requirement already satisfied: tqdm>4 in c:\\users\\mercy\\appdata\\local\\programs\\python\\python313\\lib\\site-packages (from openai<2.0.0,>=1.68.2->langchain_openai) (4.67.1)\n",
            "Requirement already satisfied: annotated-types>=0.6.0 in c:\\users\\mercy\\appdata\\local\\programs\\python\\python313\\lib\\site-packages (from pydantic>=2.7.4->langchain-core<1.0.0,>=0.3.65->langchain_openai) (0.7.0)\n",
            "Requirement already satisfied: pydantic-core==2.33.2 in c:\\users\\mercy\\appdata\\local\\programs\\python\\python313\\lib\\site-packages (from pydantic>=2.7.4->langchain-core<1.0.0,>=0.3.65->langchain_openai) (2.33.2)\n",
            "Requirement already satisfied: typing-inspection>=0.4.0 in c:\\users\\mercy\\appdata\\local\\programs\\python\\python313\\lib\\site-packages (from pydantic>=2.7.4->langchain-core<1.0.0,>=0.3.65->langchain_openai) (0.4.1)\n",
            "Requirement already satisfied: charset-normalizer<4,>=2 in c:\\users\\mercy\\appdata\\local\\programs\\python\\python313\\lib\\site-packages (from requests<3,>=2->langsmith<0.4,>=0.3.45->langchain-core<1.0.0,>=0.3.65->langchain_openai) (3.4.1)\n",
            "Requirement already satisfied: urllib3<3,>=1.21.1 in c:\\users\\mercy\\appdata\\local\\programs\\python\\python313\\lib\\site-packages (from requests<3,>=2->langsmith<0.4,>=0.3.45->langchain-core<1.0.0,>=0.3.65->langchain_openai) (2.4.0)\n",
            "Requirement already satisfied: regex>=2022.1.18 in c:\\users\\mercy\\appdata\\local\\programs\\python\\python313\\lib\\site-packages (from tiktoken<1,>=0.7->langchain_openai) (2024.11.6)\n",
            "Requirement already satisfied: colorama in c:\\users\\mercy\\appdata\\local\\programs\\python\\python313\\lib\\site-packages (from tqdm>4->openai<2.0.0,>=1.68.2->langchain_openai) (0.4.6)\n",
            "Note: you may need to restart the kernel to use updated packages.\n"
          ]
        }
      ],
      "source": [
        "%pip install langchain_openai\n",
        "from langchain_openai import ChatOpenAI\n",
        "from langchain.prompts import ChatPromptTemplate\n",
        "from langchain.chains import LLMChain"
      ]
    },
    {
      "cell_type": "code",
      "execution_count": 25,
      "id": "943237a7",
      "metadata": {
        "id": "943237a7"
      },
      "outputs": [],
      "source": [
        "# Replace None by your own value and justify\n",
        "# Set your OpenAI API key directly here for this notebook session\n",
        "llm = ChatOpenAI(temperature=0.7, api_key=OPENAI_API_KEY)\n"
      ]
    },
    {
      "cell_type": "code",
      "execution_count": null,
      "id": "cdcdb42d",
      "metadata": {
        "id": "cdcdb42d"
      },
      "outputs": [],
      "source": [
        "prompt = ChatPromptTemplate.from_template( \n",
        "    \n",
        "    'Provide detailed description with features, availability, price of the {product}'\n",
        "\n",
        ")"
      ]
    },
    {
      "cell_type": "code",
      "execution_count": null,
      "id": "d7abc20b",
      "metadata": {
        "id": "d7abc20b"
      },
      "outputs": [
        {
          "name": "stderr",
          "output_type": "stream",
          "text": [
            "C:\\Users\\Mercy\\AppData\\Local\\Temp\\ipykernel_41464\\546483037.py:1: LangChainDeprecationWarning: The class `LLMChain` was deprecated in LangChain 0.1.17 and will be removed in 1.0. Use :meth:`~RunnableSequence, e.g., `prompt | llm`` instead.\n",
            "  chain = LLMChain(llm=llm, prompt=prompt)\n"
          ]
        }
      ],
      "source": [
        "\n",
        "chain = LLMChain(llm=llm, prompt=prompt)"
      ]
    },
    {
      "cell_type": "code",
      "execution_count": null,
      "id": "ad44d1fb",
      "metadata": {
        "colab": {
          "base_uri": "https://localhost:8080/",
          "height": 227
        },
        "id": "ad44d1fb",
        "outputId": "7810f214-c580-4b88-800d-1254380dbc25"
      },
      "outputs": [
        {
          "name": "stderr",
          "output_type": "stream",
          "text": [
            "C:\\Users\\Mercy\\AppData\\Local\\Temp\\ipykernel_41464\\4034771705.py:2: LangChainDeprecationWarning: The method `Chain.run` was deprecated in langchain 0.1.0 and will be removed in 1.0. Use :meth:`~invoke` instead.\n",
            "  chain.run(product=product)\n"
          ]
        },
        {
          "data": {
            "text/plain": [
              "'Pillow inserts are essential components of decorative pillows, providing the necessary support and shape to create a comfy and visually appealing accent for your living room or bedroom. Here is a detailed description of pillow inserts, including their features, availability, and price:\\n\\nFeatures:\\n1. Material: Pillow inserts are typically made of hypoallergenic polyester fiberfill or down alternative, offering a plush and fluffy feel.\\n2. Size: Pillow inserts come in various sizes to fit different pillow covers, ranging from standard (18x18 inches) to king (20x36 inches).\\n3. Support: The inserts are designed to provide firm support and maintain the shape of the pillow, preventing it from looking flat or lumpy.\\n4. Zipper closure: Some pillow inserts come with a zipper closure, allowing you to adjust the filling or easily replace the insert when needed.\\n5. Easy care: Most pillow inserts are machine washable and can be tumble dried for easy maintenance.\\n\\nAvailability:\\nPillow inserts are widely available in home decor stores, department stores, online retailers, and specialty bedding shops. You can choose from a variety of brands, sizes, and materials to suit your preferences and budget.\\n\\nPrice:\\nThe price of pillow inserts can vary depending on the size, material, and brand. On average, a standard 18x18 inch polyester fiberfill pillow insert can range from $10 to $20, while a larger king-size down alternative insert may cost $20 to $40. Higher-end brands or specialty materials like memory foam may be priced higher.\\n\\nIn summary, pillow inserts are essential accessories for creating stylish and comfortable pillows for your home decor. With their plush filling, firm support, and easy maintenance, they provide the perfect foundation for your decorative pillow covers. Whether you prefer polyester fiberfill or down alternative, you can find a wide selection of pillow inserts to fit your needs and budget in stores or online.'"
            ]
          },
          "execution_count": 28,
          "metadata": {},
          "output_type": "execute_result"
        }
      ],
      "source": [
        "product = \"Pillows Insert\"\n",
        "chain.run(product=product)"
      ]
    },
    {
      "cell_type": "markdown",
      "id": "69b03469",
      "metadata": {
        "id": "69b03469"
      },
      "source": [
        "## SimpleSequentialChain"
      ]
    },
    {
      "cell_type": "code",
      "execution_count": 29,
      "id": "febee243",
      "metadata": {
        "id": "febee243"
      },
      "outputs": [],
      "source": [
        "from langchain.chains import SimpleSequentialChain"
      ]
    },
    {
      "cell_type": "code",
      "execution_count": 31,
      "id": "2f31aa8a",
      "metadata": {
        "id": "2f31aa8a"
      },
      "outputs": [],
      "source": [
        "llm = ChatOpenAI(temperature=0.9, api_key=OPENAI_API_KEY)\n",
        "\n",
        "# prompt template 1\n",
        "first_prompt = ChatPromptTemplate.from_template(\n",
        "   'Provide detailed description with features, availability, price of the {product}'\n",
        ")\n",
        "\n",
        "# Chain 1\n",
        "chain_one = LLMChain(llm=llm, prompt=first_prompt)"
      ]
    },
    {
      "cell_type": "code",
      "execution_count": 32,
      "id": "3f5d5b76",
      "metadata": {
        "id": "3f5d5b76"
      },
      "outputs": [],
      "source": [
        "\n",
        "# prompt template 2\n",
        "second_prompt = ChatPromptTemplate.from_template(\n",
        "    'Provide overview of all the reviews {product}'\n",
        ")\n",
        "# chain 2\n",
        "chain_two = LLMChain(llm=llm, prompt=second_prompt)"
      ]
    },
    {
      "cell_type": "code",
      "execution_count": 33,
      "id": "6c1eb2c4",
      "metadata": {
        "id": "6c1eb2c4"
      },
      "outputs": [],
      "source": [
        "overall_simple_chain = SimpleSequentialChain(chains=[chain_one, chain_two],\n",
        "                                             verbose=True\n",
        "                                            )"
      ]
    },
    {
      "cell_type": "code",
      "execution_count": 34,
      "id": "78458efe",
      "metadata": {
        "colab": {
          "base_uri": "https://localhost:8080/",
          "height": 645
        },
        "id": "78458efe",
        "outputId": "05edf791-8808-4e3f-a3a5-b499734681f6"
      },
      "outputs": [
        {
          "name": "stdout",
          "output_type": "stream",
          "text": [
            "\n",
            "\n",
            "\u001b[1m> Entering new SimpleSequentialChain chain...\u001b[0m\n",
            "\u001b[36;1m\u001b[1;3mPillow inserts are an essential component of any pillow cover, providing shape, support, and comfort. They are typically made from a variety of materials, such as polyester fiberfill, down feathers, foam, or a combination of these materials. Pillow inserts come in various shapes and sizes to fit different types of pillow covers, including square, rectangular, round, and lumbar.\n",
            "\n",
            "Features of pillow inserts may include:\n",
            "\n",
            "1. Hypoallergenic materials: Many pillow inserts are made from hypoallergenic materials, making them suitable for individuals with allergies or sensitivities.\n",
            "2. Different firmness levels: Pillow inserts are available in different firmness levels, ranging from soft to firm, to suit individual preferences.\n",
            "3. Zippered or sewn closure: Some pillow inserts come with a zippered closure, allowing for easy removal and replacement of the insert, while others have a sewn closure.\n",
            "4. Machine washable: Some pillow inserts are machine washable, making them easy to clean and maintain.\n",
            "5. Durable construction: High-quality pillow inserts are designed to withstand daily use and maintain their shape over time.\n",
            "\n",
            "Pillow inserts are widely available online and in home goods stores. Prices can vary depending on the size, material, and brand of the pillow insert. Generally, polyester fiberfill pillow inserts are more affordable, while down feather pillow inserts tend to be more expensive.\n",
            "\n",
            "On average, a standard 18x18 inch polyester fiberfill pillow insert can cost anywhere from $10 to $20, while a down feather pillow insert of the same size may range from $20 to $40 or more. It's important to consider the quality and durability of the pillow insert when making a purchase, as a higher-quality insert may last longer and provide better support for your pillows.\u001b[0m\n",
            "\u001b[33;1m\u001b[1;3mOverall, pillow inserts are an essential accessory for creating a comfortable and stylish home decor. With a variety of sizes, shapes, materials, and features available, there are pillow inserts to suit every preference and style. Whether you prefer a soft and plush pillow insert or a firm and supportive one, there is a wide selection to choose from. With proper care and maintenance, a high-quality pillow insert can provide years of comfort and support for your pillows. Consider investing in a durable and well-made pillow insert to enhance the look and feel of your pillows and overall home decor.\u001b[0m\n",
            "\n",
            "\u001b[1m> Finished chain.\u001b[0m\n"
          ]
        },
        {
          "data": {
            "text/plain": [
              "'Overall, pillow inserts are an essential accessory for creating a comfortable and stylish home decor. With a variety of sizes, shapes, materials, and features available, there are pillow inserts to suit every preference and style. Whether you prefer a soft and plush pillow insert or a firm and supportive one, there is a wide selection to choose from. With proper care and maintenance, a high-quality pillow insert can provide years of comfort and support for your pillows. Consider investing in a durable and well-made pillow insert to enhance the look and feel of your pillows and overall home decor.'"
            ]
          },
          "execution_count": 34,
          "metadata": {},
          "output_type": "execute_result"
        }
      ],
      "source": [
        "overall_simple_chain.run(product)"
      ]
    },
    {
      "cell_type": "markdown",
      "id": "0dd59bda-9d02-44e7-b3d6-2bec61b99d8f",
      "metadata": {
        "id": "0dd59bda-9d02-44e7-b3d6-2bec61b99d8f"
      },
      "source": [
        "**Repeat the above twice for different products**"
      ]
    },
    {
      "cell_type": "markdown",
      "id": "7b5ce18c",
      "metadata": {
        "id": "7b5ce18c"
      },
      "source": [
        "## SequentialChain"
      ]
    },
    {
      "cell_type": "code",
      "execution_count": 35,
      "id": "4c129ef6",
      "metadata": {
        "id": "4c129ef6"
      },
      "outputs": [],
      "source": [
        "from langchain.chains import SequentialChain"
      ]
    },
    {
      "cell_type": "code",
      "execution_count": 43,
      "id": "016187ac",
      "metadata": {
        "id": "016187ac"
      },
      "outputs": [],
      "source": [
        "llm = ChatOpenAI(temperature=0.9, api_key=OPENAI_API_KEY)\n",
        "\n",
        "\n",
        "first_prompt = ChatPromptTemplate.from_template(\n",
        "  'Translate the review to Spanish: {Review}'\n",
        ")\n",
        "\n",
        "chain_one = LLMChain(llm=llm, prompt=first_prompt,\n",
        "                     output_key='Spanish_Review'\n",
        "                    )\n"
      ]
    },
    {
      "cell_type": "code",
      "execution_count": 38,
      "id": "0fb0730e",
      "metadata": {
        "id": "0fb0730e"
      },
      "outputs": [],
      "source": [
        "second_prompt = ChatPromptTemplate.from_template(\n",
        "    'Translate the Review into German: {Spanish_Review}'\n",
        ")\n",
        "\n",
        "chain_two = LLMChain(llm=llm, prompt=second_prompt,\n",
        "                     output_key='German_Review' #give a name to this output\n",
        "                    )\n"
      ]
    },
    {
      "cell_type": "code",
      "execution_count": 39,
      "id": "6accf92d",
      "metadata": {
        "id": "6accf92d"
      },
      "outputs": [],
      "source": [
        "# prompt template 3: translate to english or other language\n",
        "third_prompt = ChatPromptTemplate.from_template(\n",
        "    'Translate the Review into Hindi Language: {German_Review}'\n",
        ")\n",
        "# chain 3: input= Review and output= language\n",
        "chain_three = LLMChain(llm=llm, prompt=third_prompt,\n",
        "                       output_key='Hindi_Review'\n",
        "                      )\n"
      ]
    },
    {
      "cell_type": "code",
      "execution_count": 40,
      "id": "c7a46121",
      "metadata": {
        "id": "c7a46121"
      },
      "outputs": [],
      "source": [
        "\n",
        "# prompt template 4: follow up message that take as inputs the two previous prompts' variables\n",
        "fourth_prompt = ChatPromptTemplate.from_template(\n",
        "        'Here is the HIndi Translation: {Hindi_Review}\\nHere is the German Trnaslation: {German_Review}\\nHere is the English Translation: {Spanish_Review}\\n Based on these translations, provide a brief follow-up message'\n",
        ")\n",
        "chain_four = LLMChain(llm=llm, prompt=fourth_prompt,\n",
        "                      output_key='followup_message'\n",
        "                     )\n"
      ]
    },
    {
      "cell_type": "code",
      "execution_count": 44,
      "id": "89603117",
      "metadata": {
        "colab": {
          "base_uri": "https://localhost:8080/",
          "height": 460
        },
        "id": "89603117",
        "outputId": "55660624-db28-4ab9-90f9-f69ac80d29a5"
      },
      "outputs": [],
      "source": [
        "# overall_chain: input= Review\n",
        "# and output= Spanish_Review, German_Review, Hindi_Review, followup_message\n",
        "overall_chain = SequentialChain(\n",
        "    chains=[chain_one, chain_two, chain_three, chain_four],\n",
        "    input_variables=['Review'],\n",
        "    output_variables=['Spanish_Review', 'German_Review', 'Hindi_Review', 'followup_message'],\n",
        "    verbose=True\n",
        ")"
      ]
    },
    {
      "cell_type": "code",
      "execution_count": 45,
      "id": "51b04f45",
      "metadata": {
        "id": "51b04f45"
      },
      "outputs": [
        {
          "name": "stderr",
          "output_type": "stream",
          "text": [
            "C:\\Users\\Mercy\\AppData\\Local\\Temp\\ipykernel_41464\\1992003631.py:2: LangChainDeprecationWarning: The method `Chain.__call__` was deprecated in langchain 0.1.0 and will be removed in 1.0. Use :meth:`~invoke` instead.\n",
            "  overall_chain(review)\n"
          ]
        },
        {
          "name": "stdout",
          "output_type": "stream",
          "text": [
            "\n",
            "\n",
            "\u001b[1m> Entering new SequentialChain chain...\u001b[0m\n",
            "\n",
            "\u001b[1m> Finished chain.\u001b[0m\n"
          ]
        },
        {
          "data": {
            "text/plain": [
              "{'Review': \"Je trouve le goût médiocre. La mousse ne tient pas, c'est bizarre. J'achète les mêmes dans le commerce et le goût est bien meilleur...\\r\\nVieux lot ou contrefaçon !?\",\n",
              " 'Spanish_Review': 'Encuentro el sabor mediocre. La espuma no se mantiene, es extraño. Compro los mismos en el comercio y el sabor es mucho mejor... ¿Lote viejo o falsificación!?',\n",
              " 'German_Review': 'Ich finde den Geschmack mittelmäßig. Der Schaum hält nicht, das ist seltsam. Ich kaufe dieselben in Geschäften und der Geschmack ist viel besser... Alte Charge oder Fälschung!?',\n",
              " 'Hindi_Review': 'मुझे यह स्वाद मध्यम है। फोम नहीं बना, यह अजीब है। मैं दुकानों से एक समान खरीदता हूं और स्वाद बहुत अधिक अच्छा है... पुराना बैच या नकल!?',\n",
              " 'followup_message': \"It seems like there may be some issues with the product you purchased. It's important to be cautious of old batches or counterfeit items. It's always best to purchase from reputable stores to ensure quality.\"}"
            ]
          },
          "execution_count": 45,
          "metadata": {},
          "output_type": "execute_result"
        }
      ],
      "source": [
        "review = df.Review[5]\n",
        "overall_chain(review)"
      ]
    },
    {
      "cell_type": "markdown",
      "id": "3187cf07-458a-4226-bec7-3dec7ee47af2",
      "metadata": {
        "id": "3187cf07-458a-4226-bec7-3dec7ee47af2"
      },
      "source": [
        "**Repeat the above twice for different products or reviews**"
      ]
    },
    {
      "cell_type": "markdown",
      "id": "912b83f5",
      "metadata": {},
      "source": [
        "## Product[1]: Phone 13 Pro Max"
      ]
    },
    {
      "cell_type": "code",
      "execution_count": 47,
      "id": "eb926818",
      "metadata": {},
      "outputs": [
        {
          "data": {
            "text/plain": [
              "\"Phone 13 Pro Max:\\n\\nThe iPhone 13 Pro Max is the latest flagship smartphone from Apple, released in September 2021. It comes with a large 6.7-inch Super Retina XDR display with ProMotion technology, which offers a smooth and responsive viewing experience. The phone is powered by the A15 Bionic chip, which is Apple's most powerful processor to date, providing fast and efficient performance for all your daily tasks.\\n\\nOne of the standout features of the iPhone 13 Pro Max is its camera system, which includes a triple-camera setup with 12MP ultra-wide, wide, and telephoto lenses. This allows for stunning photos and videos, with improved low-light performance and advanced computational photography features. The phone also supports Dolby Vision HDR recording and ProRAW format for even more flexibility in post-processing.\\n\\nThe iPhone 13 Pro Max also comes with 5G support for faster download and streaming speeds, as well as improved battery life compared to its predecessors. It runs on iOS 15, the latest version of Apple's operating system, which offers new features like Focus Mode, Live Text, and redesigned notifications.\\n\\nThe iPhone 13 Pro Max is available in four storage options: 128GB, 256GB, 512GB, and 1TB, with prices starting at $1,099 for the base model. It is available in four color options: Graphite, Gold, Silver, and Sierra Blue.\\n\\nOverall, the iPhone 13 Pro Max is a premium smartphone with top-of-the-line features and performance, making it a great choice for those looking for the best that Apple has to offer in a smartphone.\""
            ]
          },
          "execution_count": 47,
          "metadata": {},
          "output_type": "execute_result"
        }
      ],
      "source": [
        "llm = ChatOpenAI(temperature=0.7, api_key=OPENAI_API_KEY)\n",
        "prompt = ChatPromptTemplate.from_template( \n",
        "    'Provide detailed description with features, availability, price of the {product}'\n",
        ")\n",
        "chain = LLMChain(llm=llm, prompt=prompt)\n",
        "product = product[1]\n",
        "chain.run(product=product)"
      ]
    },
    {
      "cell_type": "code",
      "execution_count": 48,
      "id": "d408ba21",
      "metadata": {},
      "outputs": [
        {
          "name": "stdout",
          "output_type": "stream",
          "text": [
            "\n",
            "\n",
            "\u001b[1m> Entering new SimpleSequentialChain chain...\u001b[0m\n",
            "\u001b[36;1m\u001b[1;3mPhone 13 Pro Max.\n",
            "\n",
            "The iPhone 13 Pro Max is the latest flagship smartphone from Apple, boasting a plethora of advanced features and impressive specifications. This device features a stunning 6.7-inch Super Retina XDR display with ProMotion technology, offering a smooth and responsive viewing experience with a refresh rate of up to 120Hz.\n",
            "\n",
            "The iPhone 13 Pro Max is powered by Apple's latest A15 Bionic chip, delivering lightning-fast performance and advanced AI capabilities. This device is available in storage options ranging from 128GB to 1TB, ensuring that you have plenty of space to store your photos, videos, and apps.\n",
            "\n",
            "In terms of photography, the iPhone 13 Pro Max is equipped with a Triple 12MP camera system, including Wide, Ultra-Wide, and Telephoto lenses. This setup allows you to capture stunning photos and videos in any lighting condition, thanks to features like Night mode, Deep Fusion, and Smart HDR 4.\n",
            "\n",
            "Other notable features of the iPhone 13 Pro Max include 5G connectivity, MagSafe compatibility, and all-day battery life. This device is also water and dust resistant, with an IP68 rating for added peace of mind.\n",
            "\n",
            "The iPhone 13 Pro Max is available in four different colors: Graphite, Gold, Silver, and Sierra Blue. Pricing for the iPhone 13 Pro Max starts at $1,099 for the base 128GB model, with prices increasing for higher storage capacities. This device can be purchased directly from the Apple website, authorized retailers, or through carrier deals and promotions.\u001b[0m\n",
            "\u001b[33;1m\u001b[1;3mOverall, reviews of the iPhone 13 Pro Max have been overwhelmingly positive. Critics and users alike have praised its stunning display, powerful performance, and impressive camera capabilities. The device's long battery life, 5G connectivity, and extensive storage options have also been highlighted as key selling points.\n",
            "\n",
            "Some users have noted that the device's large size may be difficult to handle for those with smaller hands, and the high price point may be a barrier for some potential buyers. However, the overall consensus is that the iPhone 13 Pro Max is a top-of-the-line smartphone that offers a premium experience for those willing to invest in it.\u001b[0m\n",
            "\n",
            "\u001b[1m> Finished chain.\u001b[0m\n"
          ]
        },
        {
          "data": {
            "text/plain": [
              "\"Overall, reviews of the iPhone 13 Pro Max have been overwhelmingly positive. Critics and users alike have praised its stunning display, powerful performance, and impressive camera capabilities. The device's long battery life, 5G connectivity, and extensive storage options have also been highlighted as key selling points.\\n\\nSome users have noted that the device's large size may be difficult to handle for those with smaller hands, and the high price point may be a barrier for some potential buyers. However, the overall consensus is that the iPhone 13 Pro Max is a top-of-the-line smartphone that offers a premium experience for those willing to invest in it.\""
            ]
          },
          "execution_count": 48,
          "metadata": {},
          "output_type": "execute_result"
        }
      ],
      "source": [
        "llm = ChatOpenAI(temperature=0.9, api_key=OPENAI_API_KEY)\n",
        "first_prompt = ChatPromptTemplate.from_template(\n",
        "   'Provide detailed description with features, availability, price of the {product}'\n",
        ")\n",
        "chain_one = LLMChain(llm=llm, prompt=first_prompt)\n",
        "second_prompt = ChatPromptTemplate.from_template(\n",
        "    'Provide overview of all the reviews {product}'\n",
        ")\n",
        "chain_two = LLMChain(llm=llm, prompt=second_prompt)\n",
        "overall_simple_chain = SimpleSequentialChain(chains=[chain_one, chain_two],\n",
        "                                             verbose=True\n",
        "                                            )\n",
        "overall_simple_chain.run(product)"
      ]
    },
    {
      "cell_type": "code",
      "execution_count": 51,
      "id": "0e06b101",
      "metadata": {},
      "outputs": [
        {
          "name": "stdout",
          "output_type": "stream",
          "text": [
            "\n",
            "\n",
            "\u001b[1m> Entering new SequentialChain chain...\u001b[0m\n",
            "\n",
            "\u001b[1m> Finished chain.\u001b[0m\n"
          ]
        },
        {
          "data": {
            "text/plain": [
              "{'Review': \"Je trouve le goût médiocre. La mousse ne tient pas, c'est bizarre. J'achète les mêmes dans le commerce et le goût est bien meilleur...\\r\\nVieux lot ou contrefaçon !?\",\n",
              " 'English_Review': \"I find the taste to be mediocre. The foam doesn't hold, it's strange. I buy the same ones in stores and the taste is much better... Old batch or counterfeit!?\",\n",
              " 'German_Review': \"I find the taste mediocre. The foam doesn't hold, it's weird. I buy the same ones in stores and the taste is much better... Old batch or counterfeit!?\",\n",
              " 'French_Review': \"I find the taste mediocre. The foam doesn't hold, it's strange. I buy the same ones in stores and the taste is much better... Old batch or counterfeit!?\",\n",
              " 'followup_message': \"I recommend reaching out to the seller or manufacturer to inquire about the quality of the product or to express your concerns about a possible issue with the batch. It's important to ensure that you are consuming safe and authentic products.\"}"
            ]
          },
          "execution_count": 51,
          "metadata": {},
          "output_type": "execute_result"
        }
      ],
      "source": [
        "llm = ChatOpenAI(temperature=0.9, api_key=OPENAI_API_KEY)\n",
        "first_prompt = ChatPromptTemplate.from_template(\n",
        "  'Translate the review to English: {Review}'\n",
        ")\n",
        "chain_one = LLMChain(llm=llm, prompt=first_prompt,\n",
        "                     output_key='English_Review'\n",
        "                    )\n",
        "Second_prompt = ChatPromptTemplate.from_template(\n",
        "  'Translate the review to German: {English_Review}'\n",
        ")\n",
        "chain_two = LLMChain(llm=llm, prompt=first_prompt,\n",
        "                     output_key='German_Review'\n",
        "                    )\n",
        "Third_prompt = ChatPromptTemplate.from_template(\n",
        "  'Translate the review to French: {German_Review}'\n",
        ")\n",
        "chain_three = LLMChain(llm=llm, prompt=first_prompt,\n",
        "                     output_key='French_Review'\n",
        "                    )\n",
        "fourth_prompt = ChatPromptTemplate.from_template(\n",
        "        'Here is the French Translation: {French_Review}\\nHere is the German Trnaslation: {German_Review}\\nHere is the English Translation: {English_Review}\\n Based on these translations, provide a brief follow-up message'\n",
        ")\n",
        "chain_four = LLMChain(llm=llm, prompt=fourth_prompt,\n",
        "                      output_key='followup_message'\n",
        "                     )\n",
        "overall_chain = SequentialChain(\n",
        "    chains=[chain_one, chain_two, chain_three, chain_four],\n",
        "    input_variables=['Review'],\n",
        "    output_variables=['English_Review', 'German_Review', 'French_Review', 'followup_message'],\n",
        "    verbose=True\n",
        ")\n",
        "review = df.Review[5]\n",
        "overall_chain(review)"
      ]
    },
    {
      "cell_type": "markdown",
      "id": "9afbab76",
      "metadata": {},
      "source": [
        "## Product [2]: Luxury Air Mattresses"
      ]
    },
    {
      "cell_type": "code",
      "execution_count": 70,
      "id": "3b022a3f",
      "metadata": {},
      "outputs": [
        {
          "data": {
            "text/plain": [
              "\"Luxury air mattresses are designed to provide the ultimate comfort and support for a restful night's sleep. These mattresses are typically made with high-quality materials and advanced technology to ensure a luxurious sleeping experience. \\n\\nFeatures of luxury air mattresses may include:\\n\\n1. High-quality materials: Luxury air mattresses are often made with durable materials such as PVC or TPU that are puncture-resistant and long-lasting.\\n\\n2. Adjustable firmness: Many luxury air mattresses come with adjustable firmness settings, allowing you to customize the level of support to your liking.\\n\\n3. Built-in pumps: Some luxury air mattresses come with built-in pumps for easy inflation and deflation, saving you time and effort.\\n\\n4. Comfort layers: Luxury air mattresses may feature additional comfort layers such as memory foam or gel-infused foam to provide added cushioning and pressure relief.\\n\\n5. Temperature regulation: Some luxury air mattresses are designed with features to help regulate temperature, keeping you cool and comfortable throughout the night.\\n\\nLuxury air mattresses are available from a variety of retailers, both online and in-store. Prices for luxury air mattresses can vary depending on the brand, features, and size of the mattress. On average, you can expect to pay anywhere from $200 to $1000 or more for a luxury air mattress.\\n\\nOverall, a luxury air mattress is a great investment for anyone looking for a comfortable and supportive sleeping surface that can be easily adjusted to suit their preferences. Whether you're camping, hosting guests, or simply looking for a more comfortable alternative to a traditional mattress, a luxury air mattress is sure to provide a restful and rejuvenating night's sleep.\""
            ]
          },
          "execution_count": 70,
          "metadata": {},
          "output_type": "execute_result"
        }
      ],
      "source": [
        "llm = ChatOpenAI(temperature=0.7, api_key=OPENAI_API_KEY)\n",
        "prompt = ChatPromptTemplate.from_template( \n",
        "    'Provide detailed description with features, availability, price of the {product}'\n",
        ")\n",
        "chain = LLMChain(llm=llm, prompt=prompt)\n",
        "product = df.Product[2]\n",
        "chain.run(product=product)"
      ]
    },
    {
      "cell_type": "code",
      "execution_count": 71,
      "id": "fb4aafa9",
      "metadata": {},
      "outputs": [
        {
          "name": "stdout",
          "output_type": "stream",
          "text": [
            "\n",
            "\n",
            "\u001b[1m> Entering new SimpleSequentialChain chain...\u001b[0m\n",
            "\u001b[36;1m\u001b[1;3mA luxury air mattress is a high-quality, premium inflatable bed designed for ultimate comfort and support. These mattresses are perfect for camping trips, house guests, or as a primary bed in your home. Here are some key features of a luxury air mattress:\n",
            "\n",
            "1. Construction: Luxury air mattresses are typically made with durable materials such as puncture-resistant PVC or vinyl. They often have multiple layers for added support and stability.\n",
            "\n",
            "2. Comfort: These mattresses are designed with comfort in mind, often featuring built-in pillows, plush flocking on the surface, and adjustable firmness settings. Some models even have memory foam or gel-infused layers for extra cushioning.\n",
            "\n",
            "3. Size options: Luxury air mattresses come in a variety of sizes, including twin, full, queen, and king size. This allows you to choose the size that best fits your needs.\n",
            "\n",
            "4. Pump: Many luxury air mattresses come with a built-in pump for easy inflation and deflation. Some models even have adjustable settings for personalized firmness levels.\n",
            "\n",
            "5. Portability: Despite their luxurious features, these mattresses are lightweight and portable, making them perfect for travel or camping trips.\n",
            "\n",
            "Availability and Price:\n",
            "\n",
            "Luxury air mattresses can be found at specialty bedding stores, outdoor retailers, and online. Prices typically range from $100 to $300, depending on the brand, size, and features of the mattress. It is important to do your research and read reviews before purchasing to ensure you are getting a high-quality product that meets your needs. Some popular brands that offer luxury air mattresses include Serta, Coleman, Intex, and SoundAsleep.\u001b[0m\n",
            "\u001b[33;1m\u001b[1;3m\n",
            "\n",
            "Reviews:\n",
            "\n",
            "1. \"I absolutely love my luxury air mattress! It is so comfortable and easy to inflate. I have used it for camping trips and when guests come over, and everyone always raves about how great it feels to sleep on.\" - Sarah M.\n",
            "\n",
            "2. \"I was skeptical about purchasing a luxury air mattress at first, but I am so glad I did. The built-in pump is a game-changer and the comfort level is amazing. I feel like I am sleeping on a cloud every time I use it.\" - John D.\n",
            "\n",
            "3. \"I bought a luxury air mattress for my guest room and it has been a hit with everyone who stays over. The adjustable firmness settings are a nice feature and the size options make it easy to accommodate different guests.\" - Karen L.\n",
            "\n",
            "4. \"I have used my luxury air mattress on multiple camping trips and it has held up well. The materials are durable and the comfort level is top-notch. I highly recommend investing in a luxury air mattress for all your outdoor adventures.\" - Mike S.\n",
            "\n",
            "5. \"I have had my luxury air mattress for over a year now and it is still as comfortable as the day I bought it. The quality is outstanding and the portability makes it easy to take with me on trips. I will never go back to a traditional mattress again.\" - Emily R. \n",
            "\n",
            "Overall, luxury air mattresses receive rave reviews for their comfort, durability, and convenience. They are a great investment for anyone looking for a comfortable and versatile sleeping option.\u001b[0m\n",
            "\n",
            "\u001b[1m> Finished chain.\u001b[0m\n"
          ]
        },
        {
          "data": {
            "text/plain": [
              "'\\n\\nReviews:\\n\\n1. \"I absolutely love my luxury air mattress! It is so comfortable and easy to inflate. I have used it for camping trips and when guests come over, and everyone always raves about how great it feels to sleep on.\" - Sarah M.\\n\\n2. \"I was skeptical about purchasing a luxury air mattress at first, but I am so glad I did. The built-in pump is a game-changer and the comfort level is amazing. I feel like I am sleeping on a cloud every time I use it.\" - John D.\\n\\n3. \"I bought a luxury air mattress for my guest room and it has been a hit with everyone who stays over. The adjustable firmness settings are a nice feature and the size options make it easy to accommodate different guests.\" - Karen L.\\n\\n4. \"I have used my luxury air mattress on multiple camping trips and it has held up well. The materials are durable and the comfort level is top-notch. I highly recommend investing in a luxury air mattress for all your outdoor adventures.\" - Mike S.\\n\\n5. \"I have had my luxury air mattress for over a year now and it is still as comfortable as the day I bought it. The quality is outstanding and the portability makes it easy to take with me on trips. I will never go back to a traditional mattress again.\" - Emily R. \\n\\nOverall, luxury air mattresses receive rave reviews for their comfort, durability, and convenience. They are a great investment for anyone looking for a comfortable and versatile sleeping option.'"
            ]
          },
          "execution_count": 71,
          "metadata": {},
          "output_type": "execute_result"
        }
      ],
      "source": [
        "llm = ChatOpenAI(temperature=0.9, api_key=OPENAI_API_KEY)\n",
        "first_prompt = ChatPromptTemplate.from_template(\n",
        "   'Provide detailed description with features, availability, price of the {product}'\n",
        ")\n",
        "chain_one = LLMChain(llm=llm, prompt=first_prompt)\n",
        "second_prompt = ChatPromptTemplate.from_template(\n",
        "    'Provide overview of all the reviews {product}'\n",
        ")\n",
        "chain_two = LLMChain(llm=llm, prompt=second_prompt)\n",
        "overall_simple_chain = SimpleSequentialChain(chains=[chain_one, chain_two],\n",
        "                                             verbose=True\n",
        "                                            )\n",
        "overall_simple_chain.run(product)"
      ]
    },
    {
      "cell_type": "code",
      "execution_count": 73,
      "id": "00c1b05f",
      "metadata": {},
      "outputs": [
        {
          "name": "stdout",
          "output_type": "stream",
          "text": [
            "\n",
            "\n",
            "\u001b[1m> Entering new SequentialChain chain...\u001b[0m\n",
            "\n",
            "\u001b[1m> Finished chain.\u001b[0m\n",
            "{'Review': \"Je trouve le goût médiocre. La mousse ne tient pas, c'est bizarre. J'achète les mêmes dans le commerce et le goût est bien meilleur...\\r\\nVieux lot ou contrefaçon !?\", 'English_Review': \"I find the taste mediocre. The foam doesn't last, it's weird. I buy the same ones in stores and the taste is much better... Old batch or counterfeit!?\", 'German_Review': 'Ich finde den Geschmack mittelmäßig. Der Schaum hält nicht lange, das ist seltsam. Ich kaufe die gleichen in Geschäften und der Geschmack ist viel besser... Alte Charge oder Fälschung!?', 'French_Review': \"Je trouve le goût moyen. La mousse ne tient pas longtemps, c'est étrange. J'achète les mêmes en magasin et le goût est bien meilleur... Ancien lot ou contrefaçon?\", 'followup_message': \"It seems like there may be a quality issue with the product you purchased. It's important to be cautious when buying items that may be counterfeit or from an old batch. It might be worth reaching out to the manufacturer or store where you bought the product to address your concerns.\"}\n"
          ]
        }
      ],
      "source": [
        "llm = ChatOpenAI(temperature=0.9, api_key=OPENAI_API_KEY)\n",
        "first_prompt = ChatPromptTemplate.from_template(\n",
        "    \"Translate the review to English: {Review}\"\n",
        ")\n",
        "chain_one = LLMChain(llm=llm, prompt=first_prompt, output_key='English_Review')\n",
        "second_prompt = ChatPromptTemplate.from_template(\n",
        "    \"Translate the review to German: {English_Review}\"\n",
        ")\n",
        "chain_two = LLMChain(llm=llm, prompt=second_prompt, output_key='German_Review')\n",
        "third_prompt = ChatPromptTemplate.from_template(\n",
        "    \"Translate the review to French: {German_Review}\"\n",
        ")\n",
        "chain_three = LLMChain(llm=llm, prompt=third_prompt, output_key='French_Review')\n",
        "fourth_prompt = ChatPromptTemplate.from_template(\n",
        "    \"Here is the French Translation: {French_Review}\\nHere is the German Translation: {German_Review}\\nHere is the English Translation: {English_Review}\\nBased on these translations, provide a brief follow-up message.\"\n",
        ")\n",
        "chain_four = LLMChain(llm=llm, prompt=fourth_prompt, output_key='followup_message')\n",
        "overall_chain = SequentialChain(\n",
        "    chains=[chain_one, chain_two, chain_three, chain_four],\n",
        "    input_variables=['Review'],\n",
        "    output_variables=['English_Review', 'German_Review', 'French_Review', 'followup_message'],\n",
        "    verbose=True\n",
        ")\n",
        "\n",
        "review = df.Review[5]\n",
        "result = overall_chain({'Review': review})\n",
        "print(result)\n"
      ]
    },
    {
      "cell_type": "markdown",
      "id": "3041ea4c",
      "metadata": {
        "id": "3041ea4c"
      },
      "source": [
        "## Router Chain"
      ]
    },
    {
      "cell_type": "code",
      "execution_count": 53,
      "id": "ade83f4f",
      "metadata": {
        "id": "ade83f4f"
      },
      "outputs": [],
      "source": [
        "physics_template = \"\"\"You are a very smart physics professor. \\\n",
        "You are great at answering questions about physics in a concise\\\n",
        "and easy to understand manner. \\\n",
        "When you don't know the answer to a question you admit\\\n",
        "that you don't know.\n",
        "\n",
        "Here is a question:\n",
        "{input}\"\"\"\n",
        "\n",
        "\n",
        "math_template = \"\"\"You are a very good mathematician. \\\n",
        "You are great at answering math questions. \\\n",
        "You are so good because you are able to break down \\\n",
        "hard problems into their component parts,\n",
        "answer the component parts, and then put them together\\\n",
        "to answer the broader question.\n",
        "\n",
        "Here is a question:\n",
        "{input}\"\"\"\n",
        "\n",
        "history_template = \"\"\"You are a very good historian. \\\n",
        "You have an excellent knowledge of and understanding of people,\\\n",
        "events and contexts from a range of historical periods. \\\n",
        "You have the ability to think, reflect, debate, discuss and \\\n",
        "evaluate the past. You have a respect for historical evidence\\\n",
        "and the ability to make use of it to support your explanations \\\n",
        "and judgements.\n",
        "\n",
        "Here is a question:\n",
        "{input}\"\"\"\n",
        "\n",
        "\n",
        "computerscience_template = \"\"\" You are a successful computer scientist.\\\n",
        "You have a passion for creativity, collaboration,\\\n",
        "forward-thinking, confidence, strong problem-solving capabilities,\\\n",
        "understanding of theories and algorithms, and excellent communication \\\n",
        "skills. You are great at answering coding questions. \\\n",
        "You are so good because you know how to solve a problem by \\\n",
        "describing the solution in imperative steps \\\n",
        "that a machine can easily interpret and you know how to \\\n",
        "choose a solution that has a good balance between \\\n",
        "time complexity and space complexity.\n",
        "\n",
        "Here is a question:\n",
        "{input}\"\"\"\n",
        "\n",
        "biology_template = \"\"\"You are an excellent biologist. \\\n",
        "You have a deep understanding of living organisms, \\\n",
        "from the molecular and cellular level to entire ecosystems. \\\n",
        "You are skilled at observing patterns in nature, analyzing biological data, \\\n",
        "and explaining complex processes like evolution, genetics, physiology, and ecology. \\\n",
        "You can clearly communicate how life functions and adapts, \\\n",
        "and you make connections between different biological concepts \\\n",
        "to answer challenging questions.\n",
        "\n",
        "Here is a question:\n",
        "{input}\"\"\""
      ]
    },
    {
      "cell_type": "code",
      "execution_count": 54,
      "id": "5f590e9f",
      "metadata": {
        "id": "5f590e9f"
      },
      "outputs": [],
      "source": [
        "prompt_infos = [\n",
        "    {\n",
        "        \"name\": \"physics\",\n",
        "        \"description\": \"Good for answering questions about physics\",\n",
        "        \"prompt_template\": physics_template\n",
        "    },\n",
        "    {\n",
        "        \"name\": \"math\",\n",
        "        \"description\": \"Good for answering math questions\",\n",
        "        \"prompt_template\": math_template\n",
        "    },\n",
        "    {\n",
        "        \"name\": \"History\",\n",
        "        \"description\": \"Good for answering history questions\",\n",
        "        \"prompt_template\": history_template\n",
        "    },\n",
        "    {\n",
        "        \"name\": \"computer science\",\n",
        "        \"description\": \"Good for answering computer science questions\",\n",
        "        \"prompt_template\": computerscience_template\n",
        "    },\n",
        "    {\n",
        "        \"name\": \"biology\",\n",
        "        \"description\": \"Good for answering biology questions\",\n",
        "        \"prompt_template\": biology_template\n",
        "    }\n",
        "]"
      ]
    },
    {
      "cell_type": "code",
      "execution_count": 55,
      "id": "31b06fc8",
      "metadata": {
        "id": "31b06fc8"
      },
      "outputs": [],
      "source": [
        "from langchain.chains.router import MultiPromptChain\n",
        "from langchain.chains.router.llm_router import LLMRouterChain,RouterOutputParser\n",
        "from langchain.prompts import PromptTemplate"
      ]
    },
    {
      "cell_type": "code",
      "execution_count": 56,
      "id": "f3f50bcc",
      "metadata": {
        "id": "f3f50bcc"
      },
      "outputs": [],
      "source": [
        "llm = ChatOpenAI(temperature=0)"
      ]
    },
    {
      "cell_type": "code",
      "execution_count": 57,
      "id": "8eefec24",
      "metadata": {
        "id": "8eefec24"
      },
      "outputs": [],
      "source": [
        "destination_chains = {}\n",
        "for p_info in prompt_infos:\n",
        "    name = p_info[\"name\"]\n",
        "    prompt_template = p_info[\"prompt_template\"]\n",
        "    prompt = ChatPromptTemplate.from_template(template=prompt_template)\n",
        "    chain = LLMChain(llm=llm, prompt=prompt)\n",
        "    destination_chains[name] = chain\n",
        "\n",
        "destinations = [f\"{p['name']}: {p['description']}\" for p in prompt_infos]\n",
        "destinations_str = \"\\n\".join(destinations)"
      ]
    },
    {
      "cell_type": "code",
      "execution_count": 58,
      "id": "9f98018a",
      "metadata": {
        "id": "9f98018a"
      },
      "outputs": [],
      "source": [
        "default_prompt = ChatPromptTemplate.from_template(\"{input}\")\n",
        "default_chain = LLMChain(llm=llm, prompt=default_prompt)"
      ]
    },
    {
      "cell_type": "code",
      "execution_count": 59,
      "id": "11b2e2ba",
      "metadata": {
        "id": "11b2e2ba"
      },
      "outputs": [],
      "source": [
        "MULTI_PROMPT_ROUTER_TEMPLATE = \"\"\"Given a raw text input to a \\\n",
        "language model select the model prompt best suited for the input. \\\n",
        "You will be given the names of the available prompts and a \\\n",
        "description of what the prompt is best suited for. \\\n",
        "You may also revise the original input if you think that revising\\\n",
        "it will ultimately lead to a better response from the language model.\n",
        "\n",
        "<< FORMATTING >>\n",
        "Return a markdown code snippet with a JSON object formatted to look like:\n",
        "```json\n",
        "{{{{\n",
        "    \"destination\": string \\ name of the prompt to use or \"DEFAULT\"\n",
        "    \"next_inputs\": string \\ a potentially modified version of the original input\n",
        "}}}}\n",
        "```\n",
        "\n",
        "REMEMBER: \"destination\" MUST be one of the candidate prompt \\\n",
        "names specified below OR it can be \"DEFAULT\" if the input is not\\\n",
        "well suited for any of the candidate prompts.\n",
        "REMEMBER: \"next_inputs\" can just be the original input \\\n",
        "if you don't think any modifications are needed.\n",
        "\n",
        "<< CANDIDATE PROMPTS >>\n",
        "{destinations}\n",
        "\n",
        "<< INPUT >>\n",
        "{{input}}\n",
        "\n",
        "<< OUTPUT (remember to include the ```json)>>\"\"\""
      ]
    },
    {
      "cell_type": "code",
      "execution_count": 60,
      "id": "1387109d",
      "metadata": {
        "id": "1387109d"
      },
      "outputs": [],
      "source": [
        "router_template = MULTI_PROMPT_ROUTER_TEMPLATE.format(\n",
        "    destinations=destinations_str\n",
        ")\n",
        "router_prompt = PromptTemplate(\n",
        "    template=router_template,\n",
        "    input_variables=[\"input\"],\n",
        "    output_parser=RouterOutputParser(),\n",
        ")\n",
        "\n",
        "router_chain = LLMRouterChain.from_llm(llm, router_prompt)"
      ]
    },
    {
      "cell_type": "code",
      "execution_count": 61,
      "id": "2fb7d560",
      "metadata": {
        "id": "2fb7d560"
      },
      "outputs": [
        {
          "name": "stderr",
          "output_type": "stream",
          "text": [
            "C:\\Users\\Mercy\\AppData\\Local\\Temp\\ipykernel_41464\\2333002322.py:1: LangChainDeprecationWarning: Please see migration guide here for recommended implementation: https://python.langchain.com/docs/versions/migrating_chains/multi_prompt_chain/\n",
            "  chain = MultiPromptChain(router_chain=router_chain,\n"
          ]
        }
      ],
      "source": [
        "chain = MultiPromptChain(router_chain=router_chain,\n",
        "                         destination_chains=destination_chains,\n",
        "                         default_chain=default_chain, verbose=True\n",
        "                        )"
      ]
    },
    {
      "cell_type": "code",
      "execution_count": 62,
      "id": "d86b2131",
      "metadata": {
        "id": "d86b2131"
      },
      "outputs": [
        {
          "name": "stdout",
          "output_type": "stream",
          "text": [
            "\n",
            "\n",
            "\u001b[1m> Entering new MultiPromptChain chain...\u001b[0m\n",
            "physics: {'input': 'What is black body radiation?'}\n",
            "\u001b[1m> Finished chain.\u001b[0m\n"
          ]
        },
        {
          "data": {
            "text/plain": [
              "\"Black body radiation refers to the electromagnetic radiation emitted by a perfect black body, which is an idealized physical body that absorbs all incident electromagnetic radiation and emits radiation at all frequencies. The radiation emitted by a black body depends only on its temperature and follows a specific distribution known as Planck's law. This type of radiation is important in understanding concepts such as thermal radiation and the behavior of objects at different temperatures.\""
            ]
          },
          "execution_count": 62,
          "metadata": {},
          "output_type": "execute_result"
        }
      ],
      "source": [
        "chain.run(\"What is black body radiation?\")"
      ]
    },
    {
      "cell_type": "code",
      "execution_count": 63,
      "id": "3b717379",
      "metadata": {
        "id": "3b717379"
      },
      "outputs": [
        {
          "name": "stdout",
          "output_type": "stream",
          "text": [
            "\n",
            "\n",
            "\u001b[1m> Entering new MultiPromptChain chain...\u001b[0m\n",
            "math: {'input': 'what is 2 + 2'}\n",
            "\u001b[1m> Finished chain.\u001b[0m\n"
          ]
        },
        {
          "data": {
            "text/plain": [
              "'Thank you for the compliment! The answer to the question \"what is 2 + 2\" is 4.'"
            ]
          },
          "execution_count": 63,
          "metadata": {},
          "output_type": "execute_result"
        }
      ],
      "source": [
        "chain.run(\"what is 2 + 2\")"
      ]
    },
    {
      "cell_type": "code",
      "execution_count": 64,
      "id": "29e5be01",
      "metadata": {
        "id": "29e5be01"
      },
      "outputs": [
        {
          "name": "stdout",
          "output_type": "stream",
          "text": [
            "\n",
            "\n",
            "\u001b[1m> Entering new MultiPromptChain chain...\u001b[0m\n",
            "biology: {'input': 'Why does every cell in our body contain DNA?'}\n",
            "\u001b[1m> Finished chain.\u001b[0m\n"
          ]
        },
        {
          "data": {
            "text/plain": [
              "'Every cell in our body contains DNA because DNA is the genetic material that carries the instructions for the development, functioning, and reproduction of all living organisms. DNA contains the information needed to build and maintain an organism, including the proteins that make up our cells and tissues. \\n\\nHaving DNA in every cell ensures that each cell has the necessary genetic information to carry out its specific functions and to replicate itself accurately during cell division. This ensures that the genetic information is passed on to the next generation of cells. \\n\\nAdditionally, DNA is constantly being used by cells to carry out processes such as protein synthesis, cell division, and repair. Having DNA in every cell allows for the coordination of these processes and ensures the proper functioning of the organism as a whole. \\n\\nIn summary, every cell in our body contains DNA because it is essential for the development, functioning, and reproduction of all living organisms.'"
            ]
          },
          "execution_count": 64,
          "metadata": {},
          "output_type": "execute_result"
        }
      ],
      "source": [
        "chain.run(\"Why does every cell in our body contain DNA?\")"
      ]
    },
    {
      "cell_type": "markdown",
      "id": "09e0c60b-7ae0-453e-9467-142d8dafee6e",
      "metadata": {
        "id": "09e0c60b-7ae0-453e-9467-142d8dafee6e"
      },
      "source": [
        "**Repeat the above at least once for different inputs and chains executions - Be creative!**"
      ]
    },
    {
      "cell_type": "code",
      "execution_count": 65,
      "id": "5d490d47",
      "metadata": {},
      "outputs": [
        {
          "name": "stdout",
          "output_type": "stream",
          "text": [
            "\n",
            "\n",
            "\u001b[1m> Entering new MultiPromptChain chain...\u001b[0m\n",
            "None: {'input': 'What is the largest city in the world'}\n",
            "\u001b[1m> Finished chain.\u001b[0m\n"
          ]
        },
        {
          "data": {
            "text/plain": [
              "'The largest city in the world by population is Tokyo, Japan.'"
            ]
          },
          "execution_count": 65,
          "metadata": {},
          "output_type": "execute_result"
        }
      ],
      "source": [
        "chain.run(\"What is the largest city in the world\")"
      ]
    },
    {
      "cell_type": "code",
      "execution_count": 66,
      "id": "4a79aa96",
      "metadata": {},
      "outputs": [
        {
          "name": "stdout",
          "output_type": "stream",
          "text": [
            "\n",
            "\n",
            "\u001b[1m> Entering new MultiPromptChain chain...\u001b[0m\n",
            "math: {'input': 'What is 6789 + 2234?'}\n",
            "\u001b[1m> Finished chain.\u001b[0m\n"
          ]
        },
        {
          "data": {
            "text/plain": [
              "'To solve this problem, we can break it down into two separate addition problems:\\n\\n1. 6000 + 2000 = 8000\\n2. 789 + 234 = 1023\\n\\nNow, we can add these two results together:\\n\\n8000 + 1023 = 9023\\n\\nTherefore, 6789 + 2234 is equal to 9023.'"
            ]
          },
          "execution_count": 66,
          "metadata": {},
          "output_type": "execute_result"
        }
      ],
      "source": [
        "chain.run(\"What is 6789 + 2234?\")"
      ]
    },
    {
      "cell_type": "code",
      "execution_count": 67,
      "id": "20eb40ce",
      "metadata": {},
      "outputs": [
        {
          "name": "stdout",
          "output_type": "stream",
          "text": [
            "\n",
            "\n",
            "\u001b[1m> Entering new MultiPromptChain chain...\u001b[0m\n",
            "computer science: {'input': 'What is the difference between a stack and a queue in data structures?'}\n",
            "\u001b[1m> Finished chain.\u001b[0m\n"
          ]
        },
        {
          "data": {
            "text/plain": [
              "'A stack and a queue are both data structures that store elements in a specific order, but they differ in how elements are added and removed.\\n\\n1. Stack:\\n- A stack is a Last In, First Out (LIFO) data structure, meaning that the last element added to the stack is the first one to be removed.\\n- Elements are added and removed from the top of the stack.\\n- Common operations on a stack include push (add an element to the top of the stack) and pop (remove the top element from the stack).\\n\\n2. Queue:\\n- A queue is a First In, First Out (FIFO) data structure, meaning that the first element added to the queue is the first one to be removed.\\n- Elements are added to the back of the queue and removed from the front.\\n- Common operations on a queue include enqueue (add an element to the back of the queue) and dequeue (remove the front element from the queue).\\n\\nIn summary, the main difference between a stack and a queue is the order in which elements are added and removed. A stack follows the LIFO principle, while a queue follows the FIFO principle.'"
            ]
          },
          "execution_count": 67,
          "metadata": {},
          "output_type": "execute_result"
        }
      ],
      "source": [
        "chain.run(\"What is the difference between a stack and a queue in data structures?\")"
      ]
    }
  ],
  "metadata": {
    "colab": {
      "gpuType": "T4",
      "include_colab_link": true,
      "provenance": []
    },
    "kernelspec": {
      "display_name": "Python 3",
      "name": "python3"
    },
    "language_info": {
      "codemirror_mode": {
        "name": "ipython",
        "version": 3
      },
      "file_extension": ".py",
      "mimetype": "text/x-python",
      "name": "python",
      "nbconvert_exporter": "python",
      "pygments_lexer": "ipython3",
      "version": "3.13.3"
    }
  },
  "nbformat": 4,
  "nbformat_minor": 5
}
